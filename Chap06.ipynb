{
 "cells": [
  {
   "cell_type": "code",
   "execution_count": 5,
   "metadata": {},
   "outputs": [
    {
     "name": "stdout",
     "output_type": "stream",
     "text": [
      "결합한 힘의 크기:  212.56671821060448\n",
      "결합한 힘의 방향:  46.395392948206855\n"
     ]
    }
   ],
   "source": [
    "import numpy as np\n",
    "\n",
    "def getVector(mag, deg):\n",
    "    vec = np.zeros(2)\n",
    "    vec[0] = mag*np.cos(deg*2*np.pi/360)\n",
    "    vec[1] = mag*np.sin(deg*2*np.pi/360)\n",
    "    return vec\n",
    "\n",
    "def getMagDeg(vec):\n",
    "    mag = np.sqrt(vec[0]*vec[0]+vec[1]*vec[1])\n",
    "    deg = np.arctan(vec[1]/vec[0]) * 360/(2*np.pi)\n",
    "    return mag, deg\n",
    "\n",
    "F1 = getVector(100, 30)\n",
    "F2 = getVector(120, 60)\n",
    "Fsum = F1 + F2\n",
    "magn, angle = getMagDeg(Fsum)\n",
    "print(\"결합한 힘의 크기: \", magn)\n",
    "print(\"결합한 힘의 방향: \", angle)"
   ]
  },
  {
   "cell_type": "code",
   "execution_count": 6,
   "metadata": {},
   "outputs": [
    {
     "name": "stdout",
     "output_type": "stream",
     "text": [
      "A와 B의 사잇각:  [[7.52871961]]\n",
      "A의 B 위로의 정사영: \n",
      " [[ 0.09090909]\n",
      " [-0.09090909]\n",
      " [ 0.27272727]]\n"
     ]
    }
   ],
   "source": [
    "import numpy as np\n",
    "\n",
    "def angle2vectors(v, w):\n",
    "    vnorm = np.linalg.norm(v)\n",
    "    wnorm = np.linalg.norm(w)\n",
    "    vwdot = np.dot(v.T, w)\n",
    "    angle = np.arctan(vwdot/(vnorm*wnorm))*360/np.pi\n",
    "    return angle\n",
    "\n",
    "def orthProj(u, x):\n",
    "    xu_dot = np.dot(x.T, u)\n",
    "    uu_dot = np.dot(u.T, u)\n",
    "    projux = (xu_dot/uu_dot)*u\n",
    "    return projux\n",
    "\n",
    "A = np.array([[2], [4], [1]])\n",
    "B = np.array([[1], [-1], [3]])\n",
    "angle = angle2vectors(A, B)\n",
    "projAB = orthProj(B, A)\n",
    "print(\"A와 B의 사잇각: \", angle)\n",
    "print(\"A의 B 위로의 정사영: \\n\", projAB)"
   ]
  },
  {
   "cell_type": "code",
   "execution_count": 7,
   "metadata": {},
   "outputs": [
    {
     "name": "stdout",
     "output_type": "stream",
     "text": [
      "부피:  9.000000000000002\n"
     ]
    }
   ],
   "source": [
    "import numpy as np\n",
    "\n",
    "def tripleProduct(u, v, w):\n",
    "    M = np.zeros((3,3))\n",
    "    M[0:] = u\n",
    "    M[1:] = v\n",
    "    M[2:] = w\n",
    "    val = np.linalg.det(M)\n",
    "    return val\n",
    "\n",
    "A = np.array([1,2,3])\n",
    "B = np.array([0,5,2])\n",
    "C = np.array([2,2,4])\n",
    "D = np.array([2,4,1])\n",
    "u = B-A\n",
    "v = C-A\n",
    "w = D-A\n",
    "val = tripleProduct(u,v,w)\n",
    "print(\"부피: \", np.absolute(val))"
   ]
  },
  {
   "cell_type": "code",
   "execution_count": 8,
   "metadata": {},
   "outputs": [
    {
     "name": "stdout",
     "output_type": "stream",
     "text": [
      "거리:  3.2071349029490928\n"
     ]
    }
   ],
   "source": [
    "import numpy as np\n",
    "\n",
    "def distPt2Pl(A, W, P):\n",
    "    num = np.dot((P-A).T, W)\n",
    "    deno = np.linalg.norm(W)\n",
    "    val = np.absolute(num)/deno\n",
    "    return val\n",
    "\n",
    "A = np.array([2,3,4])\n",
    "W = np.array([1,2,3])\n",
    "P = np.array([0,1,2])\n",
    "print(\"거리: \", distPt2Pl(A, W, P))"
   ]
  }
 ],
 "metadata": {
  "kernelspec": {
   "display_name": "Python 3.10.8 64-bit (microsoft store)",
   "language": "python",
   "name": "python3"
  },
  "language_info": {
   "codemirror_mode": {
    "name": "ipython",
    "version": 3
   },
   "file_extension": ".py",
   "mimetype": "text/x-python",
   "name": "python",
   "nbconvert_exporter": "python",
   "pygments_lexer": "ipython3",
   "version": "3.10.8"
  },
  "orig_nbformat": 4,
  "vscode": {
   "interpreter": {
    "hash": "8d8dbd52faed4becc147a94e782cf6f62c24520850551e1b80153c6ff2f423d5"
   }
  }
 },
 "nbformat": 4,
 "nbformat_minor": 2
}
